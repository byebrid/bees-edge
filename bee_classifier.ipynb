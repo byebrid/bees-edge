{
 "cells": [
  {
   "cell_type": "code",
   "execution_count": 37,
   "metadata": {},
   "outputs": [],
   "source": [
    "import pandas as pd\n",
    "import cv2\n",
    "\n",
    "from pathlib import Path\n",
    "import re\n",
    "\n",
    "TRAIN_DIR = Path(\"/home/lex/data/Spatial_Monitoring_and_Insect_Behavioural_Analysis_Dataset/YOLOv4_Training_and_Test_Dataset/training\")\n",
    "TEST_DIR = Path(\"/home/lex/data/Spatial_Monitoring_and_Insect_Behavioural_Analysis_Dataset/YOLOv4_Training_and_Test_Dataset/testing\")\n",
    "CLASSES_FP = Path(\"/home/lex/data/Spatial_Monitoring_and_Insect_Behavioural_Analysis_Dataset/YOLOv4_Training_and_Test_Dataset/classes.names\")\n",
    "INSECT_TXT_REGEX = re.compile(r\"insect_(\\d+).txt\")"
   ]
  },
  {
   "cell_type": "code",
   "execution_count": 38,
   "metadata": {},
   "outputs": [
    {
     "name": "stdout",
     "output_type": "stream",
     "text": [
      "Found classes: ['0: Hymenoptera', '1: Flower', '2: Syrphidae', '3: Lepidoptera']\n"
     ]
    }
   ],
   "source": [
    "# Get list of target classes (e.g. bee/wasp, flower, etc.) and corresponding zero-based index for that class\n",
    "with open(CLASSES_FP, \"r\") as f:\n",
    "    classes = f.readlines()\n",
    "    classes = [c.strip() for c in classes]\n",
    "\n",
    "print(f\"Found classes: {[f'{i}: {label}' for i, label in enumerate(classes)]}\")"
   ]
  },
  {
   "cell_type": "code",
   "execution_count": 39,
   "metadata": {},
   "outputs": [
    {
     "name": "stdout",
     "output_type": "stream",
     "text": [
      "              image insect_type  centre_x  centre_y     width    height\n",
      "0  insect_02097.png           0  0.438305  0.512250  0.016172  0.033593\n",
      "1  insect_02905.png           0  0.131612  0.412750  0.011568  0.035130\n",
      "2  insect_01728.png           0  0.394792  0.306481  0.017708  0.025926\n",
      "3  insect_01728.png           1  0.294792  0.488889  0.030208  0.055556\n",
      "4  insect_01728.png           1  0.514062  0.241204  0.038542  0.065741\n"
     ]
    }
   ],
   "source": [
    "# Get DataFrame where each row corresponds to a unique image+bounding box for every\n",
    "# instance of an insect that occurs in the (full-resolution) training images\n",
    "csv_columns = [\"insect_type\", \"centre_x\", \"centre_y\", \"width\", \"height\"]\n",
    "extra_columns = [\"image\"]\n",
    "df = pd.DataFrame(columns=[*extra_columns, *csv_columns])\n",
    "\n",
    "for file in TRAIN_DIR.iterdir():\n",
    "    match = INSECT_TXT_REGEX.match(file.name)\n",
    "    if match:\n",
    "        row = pd.read_csv(file, sep=\" \", names=csv_columns)\n",
    "        \n",
    "        # Get corresponding image for this insect \n",
    "        image_fp = file.with_suffix(\".png\")\n",
    "        row[\"image\"] = image_fp.name\n",
    "        df = pd.concat([df, row], ignore_index=True)\n",
    "\n",
    "print(df.head())"
   ]
  },
  {
   "cell_type": "code",
   "execution_count": 40,
   "metadata": {},
   "outputs": [
    {
     "name": "stdout",
     "output_type": "stream",
     "text": [
      "Assuming every image is 1920x1080 resolution\n",
      "              image insect_type  centre_x  centre_y  width  height\n",
      "0  insect_02097.png           0       841       553     31      36\n",
      "1  insect_02905.png           0       252       445     22      37\n",
      "2  insect_01728.png           0       758       330     33      28\n",
      "3  insect_01728.png           1       566       528     57      60\n",
      "4  insect_01728.png           1       986       260     74      71\n"
     ]
    }
   ],
   "source": [
    "# Assume each image is the exact same resolution for simplicity. Now convert those fractional positions above to\n",
    "# absolute pixel values (e.g. centre_x=0.44 --> 0.44*1920~=845)\n",
    "image_fp = TRAIN_DIR / df.loc[0, \"image\"] # Just get first image as example\n",
    "image = cv2.imread(str(image_fp))\n",
    "height, width, num_channels = image.shape\n",
    "print(f\"Assuming every image is {width}x{height} resolution\")\n",
    "\n",
    "# Use image dimensions to convert fractional positions to absolute\n",
    "df[\"centre_x\"] = (df[\"centre_x\"] * width).astype(int)\n",
    "df[\"centre_y\"] = (df[\"centre_y\"] * height).astype(int)\n",
    "df[\"width\"] = (df[\"width\"] * width).astype(int)\n",
    "df[\"height\"] = (df[\"height\"] * height).astype(int)\n",
    "\n",
    "print(df.head())"
   ]
  },
  {
   "cell_type": "code",
   "execution_count": null,
   "metadata": {},
   "outputs": [],
   "source": []
  }
 ],
 "metadata": {
  "kernelspec": {
   "display_name": "Python 3",
   "language": "python",
   "name": "python3"
  },
  "language_info": {
   "codemirror_mode": {
    "name": "ipython",
    "version": 3
   },
   "file_extension": ".py",
   "mimetype": "text/x-python",
   "name": "python",
   "nbconvert_exporter": "python",
   "pygments_lexer": "ipython3",
   "version": "3.8.16"
  },
  "orig_nbformat": 4,
  "vscode": {
   "interpreter": {
    "hash": "dcb72ef4c0ea3c595b2bc6c703ebc010c810e467f84455861e032fc300b00f41"
   }
  }
 },
 "nbformat": 4,
 "nbformat_minor": 2
}
